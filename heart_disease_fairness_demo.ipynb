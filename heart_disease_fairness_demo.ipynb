{
 "cells": [
  {
   "cell_type": "markdown",
   "metadata": {},
   "source": [
    "# Introduction\n",
    "\n",
    "This notebook shows how FairLearn can be used to detect issues with Fairness that are hard to detect with regular error metrics alone. We also export a dataframe so it can be used with Aequitas."
   ]
  },
  {
   "cell_type": "markdown",
   "metadata": {},
   "source": [
    "# Imports"
   ]
  },
  {
   "cell_type": "code",
   "execution_count": null,
   "metadata": {},
   "outputs": [],
   "source": [
    "import matplotlib.pyplot as plt\n",
    "import numpy as np\n",
    "import pandas as pd\n",
    "import seaborn as sns\n",
    "import sklearn\n",
    "from sklearn.model_selection import train_test_split\n",
    "from sklearn.tree import DecisionTreeClassifier, export_graphviz\n",
    "from fairlearn.widget import FairlearnDashboard\n",
    "\n",
    "pd.options.display.float_format = \"{:,.0f}\".format"
   ]
  },
  {
   "cell_type": "markdown",
   "metadata": {},
   "source": [
    "# Load Data"
   ]
  },
  {
   "cell_type": "markdown",
   "metadata": {},
   "source": [
    "Here we load the heart disease dataset provided openly by \n",
    "\n",
    "* Hungarian Institute of Cardiology. Budapest: Andras Janosi, M.D., \n",
    "* University Hospital, Zurich, Switzerland: William Steinbrunn, M.D., \n",
    "* University Hospital, Basel, Switzerland: Matthias Pfisterer, M.D.,\n",
    "* V.A. Medical Center, Long Beach and Cleveland Clinic Foundation:Robert Detrano, M.D., Ph.D. \n",
    "\n",
    "on the UCI ML Repository: https://archive.ics.uci.edu/ml/datasets/Heart+Disease"
   ]
  },
  {
   "cell_type": "code",
   "execution_count": null,
   "metadata": {},
   "outputs": [],
   "source": [
    "heart_disease_df = pd.read_csv(\n",
    "    \"heart_disease.csv\", index_col=False, skipinitialspace=True\n",
    ")\n",
    "\n",
    "heart_disease_df[\"heart_disease\"] = heart_disease_df[\"num\"].apply(\n",
    "    lambda x: 0 if x == 0 else 1\n",
    ")\n",
    "\n",
    "heart_disease_df = heart_disease_df.drop(\"num\", axis=1)"
   ]
  },
  {
   "cell_type": "code",
   "execution_count": null,
   "metadata": {},
   "outputs": [],
   "source": [
    "heart_disease_df = heart_disease_df.replace(\"?\", pd.NaT)\n",
    "heart_disease_cleaned_df = heart_disease_df.dropna()\n",
    "heart_disease_cleaned_df"
   ]
  },
  {
   "cell_type": "markdown",
   "metadata": {},
   "source": [
    "# EDA Plots"
   ]
  },
  {
   "cell_type": "markdown",
   "metadata": {},
   "source": [
    "First we try to get a feeling of some of the features in the dataset and how they relate to our target: whether a person has a heart disease or not. We start by looking at age, then the maximum heart rate (thalach), followed by the influence of the sex of a person, and finally we look at the target itself."
   ]
  },
  {
   "cell_type": "markdown",
   "metadata": {},
   "source": [
    "## Age"
   ]
  },
  {
   "cell_type": "code",
   "execution_count": null,
   "metadata": {},
   "outputs": [],
   "source": [
    "sns.distplot(heart_disease_cleaned_df[\"age\"])\n",
    "plt.title(\"Age Distribution\")\n",
    "plt.savefig(\"age.png\", bbox_inches=\"tight\", dpi=400)"
   ]
  },
  {
   "cell_type": "code",
   "execution_count": null,
   "metadata": {},
   "outputs": [],
   "source": [
    "sns.distplot(\n",
    "    heart_disease_cleaned_df[heart_disease_cleaned_df[\"heart_disease\"] == 0][\"age\"],\n",
    "    label=\"heart_disease = 0\",\n",
    ")\n",
    "sns.distplot(\n",
    "    heart_disease_cleaned_df[heart_disease_cleaned_df[\"heart_disease\"] == 1][\"age\"],\n",
    "    label=\"heart_disease = 1\",\n",
    ")\n",
    "plt.legend()\n",
    "plt.title(\"Age Distribution vs. Heart Disease\")\n",
    "plt.savefig(\"age_distplot.png\", bbox_inches=\"tight\", dpi=400)"
   ]
  },
  {
   "cell_type": "markdown",
   "metadata": {},
   "source": [
    "## Maximum Heart Rate (Thalach)"
   ]
  },
  {
   "cell_type": "code",
   "execution_count": null,
   "metadata": {},
   "outputs": [],
   "source": [
    "sns.distplot(heart_disease_cleaned_df[\"thalach\"])\n",
    "plt.title(\"Distribution of Maximum Heart Rate\")\n",
    "plt.savefig(\"thalach_distplot.png\", bbox_inches=\"tight\", dpi=400)"
   ]
  },
  {
   "cell_type": "code",
   "execution_count": null,
   "metadata": {},
   "outputs": [],
   "source": [
    "sns.distplot(\n",
    "    heart_disease_cleaned_df[heart_disease_cleaned_df[\"heart_disease\"] == 0][\"thalach\"],\n",
    "    label=\"heart_disease = 0\",\n",
    ")\n",
    "sns.distplot(\n",
    "    heart_disease_cleaned_df[heart_disease_cleaned_df[\"heart_disease\"] == 1][\"thalach\"],\n",
    "    label=\"heart_disease = 1\",\n",
    ")\n",
    "plt.legend()\n",
    "plt.title(\"Distribution of Maximum Heart Rate vs. Heart Disease\")\n",
    "plt.savefig(\"thalach_distplot_vs_heart_disease.png\", bbox_inches=\"tight\", dpi=400)"
   ]
  },
  {
   "cell_type": "markdown",
   "metadata": {},
   "source": [
    "## Sex"
   ]
  },
  {
   "cell_type": "code",
   "execution_count": null,
   "metadata": {},
   "outputs": [],
   "source": [
    "sns.countplot(data=heart_disease_cleaned_df, x=\"sex\")\n",
    "plt.title(\"Distribution of Sex\")\n",
    "plt.savefig(\"sex_amount.png\", bbox_inches=\"tight\", dpi=400)"
   ]
  },
  {
   "cell_type": "code",
   "execution_count": null,
   "metadata": {},
   "outputs": [],
   "source": [
    "g = sns.catplot(\n",
    "    x=\"sex\", kind=\"count\", hue=\"heart_disease\", data=heart_disease_cleaned_df\n",
    ")\n",
    "plt.title(\"Distribution of Sex vs. Heart Disease\")\n",
    "plt.savefig(\"sex_vs_disease.png\", bbox_inches=\"tight\", dpi=400)"
   ]
  },
  {
   "cell_type": "markdown",
   "metadata": {},
   "source": [
    "## Heart Disease (Target)"
   ]
  },
  {
   "cell_type": "code",
   "execution_count": null,
   "metadata": {},
   "outputs": [],
   "source": [
    "sns.countplot(data=heart_disease_cleaned_df, x=\"heart_disease\")\n",
    "plt.title(\"Distribution of Heart Disease\")\n",
    "plt.savefig(\"target.png\", bbox_inches=\"tight\", dpi=400)"
   ]
  },
  {
   "cell_type": "markdown",
   "metadata": {},
   "source": [
    "# Model Training"
   ]
  },
  {
   "cell_type": "markdown",
   "metadata": {},
   "source": [
    "To illustrate problems with Fairness, we will now train a simple decision tree which is able to achieve surprisingly good scores."
   ]
  },
  {
   "cell_type": "code",
   "execution_count": null,
   "metadata": {},
   "outputs": [],
   "source": [
    "X = heart_disease_cleaned_df.iloc[:, :-1]\n",
    "y = heart_disease_cleaned_df.iloc[:, -1]\n",
    "X_train, X_test, y_train, y_test = train_test_split(\n",
    "    X, y, test_size=0.3, random_state=43\n",
    ")"
   ]
  },
  {
   "cell_type": "code",
   "execution_count": null,
   "metadata": {},
   "outputs": [],
   "source": [
    "clf = DecisionTreeClassifier(random_state=43, ccp_alpha=0.025, criterion=\"entropy\")\n",
    "clf.fit(X_train, y_train)\n",
    "y_pred = clf.predict(X_test)"
   ]
  },
  {
   "cell_type": "code",
   "execution_count": null,
   "metadata": {},
   "outputs": [],
   "source": [
    "print(\n",
    "    sklearn.metrics.classification_report(\n",
    "        y_pred, y_test, target_names=[\"Heart Disease = 0\", \"Heart Disease = 1\"]\n",
    "    )\n",
    ")"
   ]
  },
  {
   "cell_type": "code",
   "execution_count": null,
   "metadata": {},
   "outputs": [],
   "source": [
    "with open(\"tree.dot\", \"w\") as dotfile:\n",
    "    dotfile.write(export_graphviz(clf, feature_names=X.columns, filled=True))"
   ]
  },
  {
   "cell_type": "markdown",
   "metadata": {},
   "source": [
    "# FairLearn"
   ]
  },
  {
   "cell_type": "markdown",
   "metadata": {},
   "source": [
    "Now we can use FairLearn to see how if our model was actually fair in the ways we deem important. If we look at the difference in recall between the two groups of sex, we will see a rather worrying issue, especially in the area of detecting heart disease..."
   ]
  },
  {
   "cell_type": "code",
   "execution_count": null,
   "metadata": {},
   "outputs": [],
   "source": [
    "FairlearnDashboard(\n",
    "    sensitive_features=X_test[[\"sex\"]],\n",
    "    sensitive_feature_names=[\"sex\"],\n",
    "    y_true=y_test.tolist(),\n",
    "    y_pred=[y_pred.tolist()],\n",
    ")"
   ]
  },
  {
   "cell_type": "markdown",
   "metadata": {},
   "source": [
    "# Create output for Aequitas"
   ]
  },
  {
   "cell_type": "markdown",
   "metadata": {},
   "source": [
    "Finally, we shape our results so they can be entered into the web interface of Aequitas for further analysis."
   ]
  },
  {
   "cell_type": "code",
   "execution_count": null,
   "metadata": {},
   "outputs": [],
   "source": [
    "aequitas_df = heart_disease_df.loc[X_test.index, :]\n",
    "aequitas_df[\"label_value\"] = aequitas_df[\"heart_disease\"]\n",
    "aequitas_df = aequitas_df.drop(\"heart_disease\", axis=1)\n",
    "aequitas_df[\"score\"] = y_pred\n",
    "aequitas_df"
   ]
  },
  {
   "cell_type": "code",
   "execution_count": null,
   "metadata": {},
   "outputs": [],
   "source": [
    "aequitas_df[\"sex\"] = aequitas_df[\"sex\"].apply(lambda x: \"m\" if x == 1.0 else \"f\")\n",
    "aequitas_df.to_csv(\"aequitas_heart_disease.csv\", index=False)"
   ]
  }
 ],
 "metadata": {
  "kernelspec": {
   "display_name": "Python 3",
   "language": "python",
   "name": "python3"
  },
  "language_info": {
   "codemirror_mode": {
    "name": "ipython",
    "version": 3
   },
   "file_extension": ".py",
   "mimetype": "text/x-python",
   "name": "python",
   "nbconvert_exporter": "python",
   "pygments_lexer": "ipython3",
   "version": "3.6.10"
  }
 },
 "nbformat": 4,
 "nbformat_minor": 4
}
